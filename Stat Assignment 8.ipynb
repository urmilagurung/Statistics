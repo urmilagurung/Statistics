{
 "cells": [
  {
   "cell_type": "markdown",
   "metadata": {},
   "source": [
    "# STAT ASSIGNMENT 8"
   ]
  },
  {
   "cell_type": "markdown",
   "metadata": {},
   "source": [
    "1.\tA crime is committed by one of two suspects, A and B. Initially, there is equal evidence against both of them. In further investigation at the crime scene, it is found that the guilty party had a blood type found in 10% of the population. Suspect A does match this blood type, whereas the blood type of Suspect B is unknown. \n",
    "\n",
    "(a) Given this new information, what is the probability that A is the guilty party? \n",
    "\n",
    "(b) Given this new information, what is the probability that B’s blood type matches that found at the crime scene?\n"
   ]
  },
  {
   "cell_type": "markdown",
   "metadata": {},
   "source": [
    "(a) Given this new information, what is the probability that A is the guilty party?\n",
    "\n",
    "(b) Given this new information, what is the probability that B’s blood type matches that found at the crime scene?\n",
    "\n",
    "Define events\n",
    "\n",
    "A: {A is guilty}\n",
    "\n",
    "B: {B is Guilty}\n",
    "\n",
    "MA = {A's Blood matches the guilty party}\n",
    "\n",
    "MB = {B's Blood matches the guilty party}\n",
    "\n",
    "(a) we want to calculate P(A/MA). Use Byes rule to Calculcate\n",
    "\n",
    "P(A/MA) = P(MA|A)P(A)/P(MA|A)P(A)+P(MA|B)P(B)\n",
    "\n",
    "(1.1/2)/(1.1/2)+(1/10* 1/2) = 10/11\n",
    "\n",
    "b we wan to calculate P(MB/MA). Use Lots to obtain\n",
    "\n",
    "P(MB|MA) = P(MB|MA.A)P(A|MA)+P(MB/MB.A)P(B|MA)\n",
    "\n",
    "= 1/10*10/11 + 1.1/11 = 2/11"
   ]
  },
  {
   "cell_type": "markdown",
   "metadata": {},
   "source": []
  }
 ],
 "metadata": {
  "kernelspec": {
   "display_name": "Python 3",
   "language": "python",
   "name": "python3"
  },
  "language_info": {
   "codemirror_mode": {
    "name": "ipython",
    "version": 3
   },
   "file_extension": ".py",
   "mimetype": "text/x-python",
   "name": "python",
   "nbconvert_exporter": "python",
   "pygments_lexer": "ipython3",
   "version": "3.8.5"
  }
 },
 "nbformat": 4,
 "nbformat_minor": 4
}
