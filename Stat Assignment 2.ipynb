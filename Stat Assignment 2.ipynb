{
 "cells": [
  {
   "cell_type": "markdown",
   "metadata": {},
   "source": [
    "# STAT ASSIGNMENT 2"
   ]
  },
  {
   "cell_type": "markdown",
   "metadata": {},
   "source": [
    "1.\tRaindrops are falling at an average rate of 20 drops per square inch per minute. What would be a reasonable distribution to use for the number of raindrops hitting a particular region measuring 5 inches2 in t minutes? Why? Using your chosen distribution, compute the probability that the region has no rain drops in a given 3 second time interval. A reasonable choice of distribution is P"
   ]
  },
  {
   "cell_type": "markdown",
   "metadata": {},
   "source": [
    "Given question is about the number of times a particular event takes place.\n",
    "\n",
    "Therefor, We will be using Poisson's distribution for the same:\n",
    "\n",
    "P[X=x]=((e^-m)m^x)/x!\n",
    "\n",
    "Let the time be 't'.\n",
    "\n",
    "So, The average raindrops \n",
    "\n",
    "= t * 20 * 5     ......(5 is the dimension)\n",
    "\n",
    "=100t\n",
    "\n",
    "=100t/20\n",
    "\n",
    "=5 times\n",
    "\n",
    "So we find that there are 100 drops for 5 square inches.\n",
    "\n",
    "20 has been chosen as it is being mentioned the region has no rain drops in a given 3second time interval. 20 in 1 minute or 60 seconds calculation.\n",
    "\n",
    "\n",
    "Since, We are finding the probability for no raindrop so [x=0]\n",
    "\n",
    "P[X=0] = ((100/20)^0/0!)*e^-100/20 = e^-5\n"
   ]
  },
  {
   "cell_type": "markdown",
   "metadata": {},
   "source": [
    "2.\tLet X be a random day of the week, coded so that Monday is 1, Tuesday is 2, etc. (so X takes values 1, 2,..., 7, with equal probabilities). Let Y be the next day after X (again represented as an integer between 1 and 7). Do X and Y have the same distribution? What is P(X)\n"
   ]
  },
  {
   "cell_type": "markdown",
   "metadata": {},
   "source": [
    "A X is the random day of the week, so we have the probability of 1/7(occurences)\n",
    "\n",
    "Let,\n",
    "\n",
    "X Y P(X) P(Y)\n",
    "\n",
    "1 2 1/7 1/7\n",
    "\n",
    "2 3 1/7 1/7\n",
    "\n",
    "3 4 1/7 1/7\n",
    "\n",
    "4 5 1/7 1/7\n",
    "\n",
    "5 6 1/7 1/7\n",
    "\n",
    "6 7 1/7 1/7\n",
    "\n",
    "\n",
    "Follow same distribution as X and Y are having similar data distribution or you can say same probabilities.\n",
    "\n",
    "All the values of X & Y have equal probabilities. \n",
    "\n",
    "Here, P(X|Y) = 1/7+1/7+1/7+1/7+1/7+1/7 = (1/7) * 6  = 6/7 = 0.85\n",
    "\n",
    "P(X|Y) = 0.85"
   ]
  },
  {
   "cell_type": "code",
   "execution_count": null,
   "metadata": {},
   "outputs": [],
   "source": []
  }
 ],
 "metadata": {
  "kernelspec": {
   "display_name": "Python 3",
   "language": "python",
   "name": "python3"
  },
  "language_info": {
   "codemirror_mode": {
    "name": "ipython",
    "version": 3
   },
   "file_extension": ".py",
   "mimetype": "text/x-python",
   "name": "python",
   "nbconvert_exporter": "python",
   "pygments_lexer": "ipython3",
   "version": "3.8.5"
  }
 },
 "nbformat": 4,
 "nbformat_minor": 4
}
